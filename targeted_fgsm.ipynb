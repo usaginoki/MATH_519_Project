{
 "cells": [
  {
   "cell_type": "markdown",
   "metadata": {},
   "source": [
    "## Importing libraries, loading datasets"
   ]
  },
  {
   "cell_type": "code",
   "execution_count": 154,
   "metadata": {},
   "outputs": [],
   "source": [
    "import torch\n",
    "import torchvision\n",
    "from torchvision import transforms, datasets\n",
    "import torch.optim as optim\n",
    "import torch.nn as nn\n",
    "import torch.nn.functional as F\n",
    "import matplotlib.pyplot as plt\n",
    "import numpy as np\n",
    "import pandas as pd\n",
    "import seaborn as sns\n",
    "from IPython.display import clear_output"
   ]
  },
  {
   "cell_type": "code",
   "execution_count": 3,
   "metadata": {},
   "outputs": [],
   "source": [
    "# load the data\n",
    "train = datasets.MNIST(\"\", train=True, download=True,\n",
    "                          transform=transforms.Compose([transforms.ToTensor()]))\n",
    "test = datasets.MNIST(\"\", train=False, download=True,\n",
    "                            transform=transforms.Compose([transforms.ToTensor()]))\n",
    "# batch size\n",
    "trainset = torch.utils.data.DataLoader(train, batch_size=10, shuffle=True)\n",
    "\n",
    "testset = torch.utils.data.DataLoader(test, batch_size=10, shuffle=True)"
   ]
  },
  {
   "cell_type": "markdown",
   "metadata": {},
   "source": [
    "## Defining functions"
   ]
  },
  {
   "cell_type": "code",
   "execution_count": 274,
   "metadata": {},
   "outputs": [],
   "source": [
    "# create the neural network\n",
    "class Net(nn.Module):\n",
    "    def __init__(self):\n",
    "        super().__init__()\n",
    "        # input layer\n",
    "        self.fc1 = nn.Linear(28*28, 64)\n",
    "        # hidden layer\n",
    "        self.fc2 = nn.Linear(64, 64)\n",
    "        # output layer\n",
    "        self.fc3 = nn.Linear(64, 10)\n",
    "\n",
    "    def forward(self, x):\n",
    "        # activation function\n",
    "        x = F.relu(self.fc1(x))\n",
    "        x = F.relu(self.fc2(x))\n",
    "        # output layer\n",
    "        x = self.fc3(x)\n",
    "        # softmax for probability distribution\n",
    "        return F.log_softmax(x, dim=1)"
   ]
  },
  {
   "cell_type": "code",
   "execution_count": 273,
   "metadata": {},
   "outputs": [],
   "source": [
    "# define function that creates targeted adversarial examples\n",
    "def create_targeted_adversarial_examples(model, base_image, target_class_idx, steps=100, epsilon=0.1):\n",
    "    # set model to evaluation mode\n",
    "    model.eval()\n",
    "    # set requires_grad to true to get gradients\n",
    "    #delta.requires_grad = True\n",
    "    delta = torch.zeros_like(base_image, requires_grad=True)\n",
    "    # set the optimizer\n",
    "    optimizer = optim.Adam([delta], lr=0.1)\n",
    "    perturbed_image = base_image + delta\n",
    "    target_class_idx = torch.tensor([target_class_idx])\n",
    "    #true_idx = torch.tensor([true_idx])\n",
    "    true_idx = model.forward(base_image.view(-1, 28*28)).argmax(dim=1)\n",
    "    # loop through the number of steps\n",
    "    for i in range(steps):\n",
    "        # get the output of the model\n",
    "        output = model(perturbed_image)\n",
    "        # get  the negative sparse categorical cross-entropy loss with respect to the original class label\n",
    "        loss = -F.nll_loss(output, true_idx)\n",
    "        # get the positive categorical cross-entropy loss with respect to the target class label\n",
    "        loss += F.nll_loss(output, target_class_idx)\n",
    "        # zero the gradients\n",
    "        optimizer.zero_grad()\n",
    "        # backpropagate\n",
    "        loss.backward()\n",
    "        # update the weights\n",
    "        optimizer.step()\n",
    "        # clamp the values of delta to the range of [-epsilon, epsilon]\n",
    "        delta.data.clamp_(-epsilon, epsilon)\n",
    "        # update the perturbed image\n",
    "        perturbed_image = base_image + delta\n",
    "    # detach the delta tensor from the computation graph\n",
    "    delta.detach_()\n",
    "\n",
    "\n",
    "    # return the perturbed image\n",
    "    return perturbed_image"
   ]
  },
  {
   "cell_type": "code",
   "execution_count": 277,
   "metadata": {},
   "outputs": [],
   "source": [
    "# define a function that finds the lowest epsilon value that results in a successful attack\n",
    "def find_epsilon(model, base_image, target_class_idx, steps=100, max_iter=10):\n",
    "    epsilon_up = 1\n",
    "    epsilon_down = 0\n",
    "    with torch.no_grad():\n",
    "        logs = model.forward(base_image)\n",
    "    i = 0\n",
    "    while (i < max_iter):\n",
    "        epsilon = (epsilon_up + epsilon_down)/2\n",
    "        perturbed_image = create_targeted_adversarial_examples(model, base_image, target_class_idx, steps, epsilon)\n",
    "        with torch.no_grad():\n",
    "            logs = model.forward(perturbed_image)\n",
    "        \n",
    "        # if (logs[0][true_idx] >= logs[0][target_class_idx]):\n",
    "        #     epsilon_down = epsilon\n",
    "        # else:\n",
    "        #     epsilon_up = epsilon\n",
    "        if (logs[0][target_class_idx] == max(logs[0])):\n",
    "            epsilon_up = epsilon\n",
    "        else:\n",
    "            epsilon_down = epsilon\n",
    "        i += 1\n",
    "    return epsilon_up\n",
    "        "
   ]
  },
  {
   "cell_type": "code",
   "execution_count": 276,
   "metadata": {},
   "outputs": [],
   "source": [
    "# define function that finds margin-epsilon pairs on a given image\n",
    "def margin_epsilons(model, base_image, steps = 100, max_iter = 10):\n",
    "    true_idx = model.forward(base_image.view(-1, 28*28)).argmax(dim=1)\n",
    "    with torch.no_grad():\n",
    "        logs = model.forward(base_image)\n",
    "    margins = logs[0][true_idx] - logs[0]\n",
    "    margins = margins.numpy()\n",
    "    epsilons = []\n",
    "    for i in range(10):\n",
    "        epsilons.append(find_epsilon(model, base_image, i, steps, max_iter))\n",
    "    return margins, epsilons"
   ]
  },
  {
   "cell_type": "markdown",
   "metadata": {},
   "source": [
    "## Training NN"
   ]
  },
  {
   "cell_type": "code",
   "execution_count": 278,
   "metadata": {},
   "outputs": [
    {
     "name": "stdout",
     "output_type": "stream",
     "text": [
      "tensor(0.3137, grad_fn=<NllLossBackward0>)\n",
      "tensor(0.4562, grad_fn=<NllLossBackward0>)\n",
      "tensor(0.2586, grad_fn=<NllLossBackward0>)\n",
      "Accuracy:  0.967\n"
     ]
    }
   ],
   "source": [
    "# train the neural network\n",
    "net = Net()\n",
    "optimizer = optim.Adam(net.parameters(), lr=0.001)\n",
    "EPOCHS = 3\n",
    "\n",
    "for epoch in range(EPOCHS):\n",
    "    for data in trainset:\n",
    "        # data is a batch of featuresets and labels\n",
    "        X, y = data\n",
    "        # set the gradients to zero\n",
    "        net.zero_grad()\n",
    "        # forward pass\n",
    "        output = net(X.view(-1, 28*28))\n",
    "        # calculate the loss\n",
    "        loss = F.nll_loss(output, y)\n",
    "        # backward pass\n",
    "        loss.backward()\n",
    "        # update the weights\n",
    "        optimizer.step()\n",
    "    print(loss)\n",
    "\n",
    "# test the neural network\n",
    "correct = 0\n",
    "total = 0\n",
    "\n",
    "with torch.no_grad():\n",
    "    for data in testset:\n",
    "        # data is a batch of featuresets and labels\n",
    "        X, y = data\n",
    "        # forward pass\n",
    "        output = net(X.view(-1, 28*28))\n",
    "        # get the predicted class\n",
    "        for idx, i in enumerate(output):\n",
    "            if torch.argmax(i) == y[idx]:\n",
    "                correct += 1\n",
    "            total += 1\n",
    "print(\"Accuracy: \", round(correct/total, 3))\n",
    "\n"
   ]
  },
  {
   "cell_type": "markdown",
   "metadata": {},
   "source": [
    "## Demonstrating targeted FGSM Attack"
   ]
  },
  {
   "cell_type": "code",
   "execution_count": 286,
   "metadata": {},
   "outputs": [
    {
     "name": "stdout",
     "output_type": "stream",
     "text": [
      "Target class:  2\n",
      "True label:  7\n"
     ]
    }
   ],
   "source": [
    "epsilon = 0.1\n",
    "steps = 100\n",
    "\n",
    "idx = np.random.randint(0, len(testset))\n",
    "target_idx = np.random.randint(0, 10)\n",
    "print(\"Target class: \", target_idx)\n",
    "\n",
    "# get true label of image\n",
    "img, label = test[idx]\n",
    "print(\"True label: \", label)\n"
   ]
  },
  {
   "cell_type": "code",
   "execution_count": 287,
   "metadata": {},
   "outputs": [
    {
     "data": {
      "image/png": "[encoded data removed]",
      "text/plain": [
       "<Figure size 640x480 with 1 Axes>"
      ]
     },
     "metadata": {},
     "output_type": "display_data"
    }
   ],
   "source": [
    "# display an imge\n",
    "\n",
    "plt.imshow(img.view(28, 28))\n",
    "plt.show()"
   ]
  },
  {
   "cell_type": "code",
   "execution_count": 288,
   "metadata": {},
   "outputs": [
    {
     "name": "stdout",
     "output_type": "stream",
     "text": [
      "Predicted label on perturbed data: 2\n"
     ]
    }
   ],
   "source": [
    "# perturb the image to make it classified as 7\n",
    "#initialize delta as a random tensor\n",
    "#delta = torch.zeros_like(X[0].view(-1, 28*28), requires_grad=False)\n",
    "perturbed_data = create_targeted_adversarial_examples(net, img.view(-1, 28*28), target_idx, steps, epsilon)\n",
    "print(\"Predicted label on perturbed data:\", net(perturbed_data).argmax().item())"
   ]
  },
  {
   "cell_type": "code",
   "execution_count": 289,
   "metadata": {},
   "outputs": [
    {
     "data": {
      "image/png": "[encoded data removed]",
      "text/plain": [
       "<Figure size 640x480 with 1 Axes>"
      ]
     },
     "metadata": {},
     "output_type": "display_data"
    }
   ],
   "source": [
    "# display the perturbed image\n",
    "perturbed_data.view(28,28)\n",
    "plt.imshow(perturbed_data.view(28,28).detach().numpy())\n",
    "plt.show()"
   ]
  },
  {
   "cell_type": "code",
   "execution_count": 290,
   "metadata": {},
   "outputs": [
    {
     "data": {
      "text/plain": [
       "0.048828125"
      ]
     },
     "execution_count": 290,
     "metadata": {},
     "output_type": "execute_result"
    }
   ],
   "source": [
    "eps_hat = find_epsilon(net, img.view(-1, 28*28), target_idx, steps)\n",
    "eps_hat"
   ]
  },
  {
   "cell_type": "code",
   "execution_count": 291,
   "metadata": {},
   "outputs": [
    {
     "data": {
      "text/plain": [
       "tensor(2)"
      ]
     },
     "execution_count": 291,
     "metadata": {},
     "output_type": "execute_result"
    }
   ],
   "source": [
    "# test the epsilon value\n",
    "perturbed_data = create_targeted_adversarial_examples(net, img.view(-1, 28*28), target_idx, steps, epsilon=eps_hat)\n",
    "net(perturbed_data).argmax()"
   ]
  },
  {
   "cell_type": "code",
   "execution_count": 293,
   "metadata": {},
   "outputs": [
    {
     "data": {
      "text/plain": [
       "tensor(7)"
      ]
     },
     "execution_count": 293,
     "metadata": {},
     "output_type": "execute_result"
    }
   ],
   "source": [
    "# test the epsilon value\n",
    "perturbed_data = create_targeted_adversarial_examples(net, img.view(-1, 28*28), target_idx, steps, epsilon=eps_hat - 2**(-10))\n",
    "net(perturbed_data).argmax()"
   ]
  },
  {
   "cell_type": "markdown",
   "metadata": {},
   "source": [
    "## Finding trends in optimal epsilon and margins"
   ]
  },
  {
   "cell_type": "code",
   "execution_count": 295,
   "metadata": {},
   "outputs": [
    {
     "name": "stdout",
     "output_type": "stream",
     "text": [
      "99\n"
     ]
    }
   ],
   "source": [
    "# create set from m random images of each class in the test set\n",
    "m = 10\n",
    "images = []\n",
    "labels = []\n",
    "for i in range(10):\n",
    "    count = 0\n",
    "    for data in testset:\n",
    "        X, y = data\n",
    "        if (y[0] == i):\n",
    "            images.append(X[0].view(-1, 28*28))\n",
    "            labels.append(y[0])\n",
    "            count += 1\n",
    "        if (count == m):\n",
    "            break\n",
    "images = torch.stack(images)\n",
    "labels = torch.tensor(labels)\n",
    "\n",
    "# create a dataframe to store the margins and epsilons\n",
    "margins = []\n",
    "epsilons = []\n",
    "\n",
    "# loop through the images\n",
    "for i in range(10*m):\n",
    "    clear_output(wait=True)\n",
    "    print(i)\n",
    "    # get the margin-epsilon pairs\n",
    "    margin, epsilon = margin_epsilons(net, images[i], steps=100, max_iter=10)\n",
    "    # add the margin-epsilon pairs to the dataframe\n",
    "    margins.append(margin)\n",
    "    epsilons.append(epsilon)\n",
    "\n",
    "margins = np.array(margins).flatten()\n",
    "epsilons = np.array(epsilons).flatten()"
   ]
  },
  {
   "cell_type": "code",
   "execution_count": 296,
   "metadata": {},
   "outputs": [
    {
     "data": {
      "image/png": "[encoded data removed]",
      "text/plain": [
       "<Figure size 640x480 with 1 Axes>"
      ]
     },
     "metadata": {},
     "output_type": "display_data"
    }
   ],
   "source": [
    "#plot the margins and epsilons\n",
    "plt.scatter(margins, epsilons)\n",
    "plt.ylabel(\"Epsilon\")\n",
    "plt.xlabel(\"Margin\")\n",
    "plt.show()\n"
   ]
  },
  {
   "cell_type": "markdown",
   "metadata": {},
   "source": [
    "## Success rate of targeted fgsm attack for fixed target class and epsilon"
   ]
  },
  {
   "cell_type": "code",
   "execution_count": 298,
   "metadata": {},
   "outputs": [
    {
     "name": "stdout",
     "output_type": "stream",
     "text": [
      "99\n"
     ]
    }
   ],
   "source": [
    "# perturb k random images from the test set to match class 0\n",
    "k = 100\n",
    "perturbed_images = []\n",
    "perturbed_labels = []\n",
    "i = 0\n",
    "while (i < k):\n",
    "    clear_output(wait=True)\n",
    "    print(i)\n",
    "    # get a random image from the test set\n",
    "    idx = np.random.randint(0, len(testset))\n",
    "    X, y = test[idx]\n",
    "    if (y == 0):\n",
    "        continue\n",
    "    # perturb the image to match class 0\n",
    "    perturbed_image = create_targeted_adversarial_examples(net, X.view(-1, 28*28), 0, steps=100, epsilon=0.1)\n",
    "    # add the perturbed image to the list\n",
    "    perturbed_images.append(perturbed_image)\n",
    "    perturbed_labels.append(y)\n",
    "    i += 1\n",
    "\n",
    "perturbed_images = torch.stack(perturbed_images)\n",
    "perturbed_labels = torch.tensor(perturbed_labels)"
   ]
  },
  {
   "cell_type": "code",
   "execution_count": 299,
   "metadata": {},
   "outputs": [
    {
     "name": "stdout",
     "output_type": "stream",
     "text": [
      "Accuracy:  0.01\n",
      "Success rate:  0.46\n"
     ]
    }
   ],
   "source": [
    "# test the perturbed images\n",
    "correct = 0\n",
    "total = 0\n",
    "success = 0\n",
    "\n",
    "with torch.no_grad():\n",
    "    for i in range(k):\n",
    "        # forward pass\n",
    "        output = net(perturbed_images[i].view(-1, 28*28))\n",
    "        # get the predicted class\n",
    "        if torch.argmax(output) == perturbed_labels[i]:\n",
    "            correct += 1\n",
    "        if torch.argmax(output) == 0:\n",
    "            success += 1\n",
    "        total += 1\n",
    "print(\"Accuracy: \", round(correct/total, 3))\n",
    "print(\"Success rate: \", round(success/total, 3))\n"
   ]
  }
 ],
 "metadata": {
  "kernelspec": {
   "display_name": "Python 3",
   "language": "python",
   "name": "python3"
  },
  "language_info": {
   "codemirror_mode": {
    "name": "ipython",
    "version": 3
   },
   "file_extension": ".py",
   "mimetype": "text/x-python",
   "name": "python",
   "nbconvert_exporter": "python",
   "pygments_lexer": "ipython3",
   "version": "3.8.8"
  }
 },
 "nbformat": 4,
 "nbformat_minor": 2
}
